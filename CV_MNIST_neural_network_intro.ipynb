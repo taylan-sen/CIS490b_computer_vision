{
  "nbformat": 4,
  "nbformat_minor": 0,
  "metadata": {
    "colab": {
      "provenance": [],
      "gpuType": "T4",
      "authorship_tag": "ABX9TyMfQ9rQ6JRShNtQbagA7AhX",
      "include_colab_link": true
    },
    "kernelspec": {
      "name": "python3",
      "display_name": "Python 3"
    },
    "language_info": {
      "name": "python"
    },
    "accelerator": "GPU"
  },
  "cells": [
    {
      "cell_type": "markdown",
      "metadata": {
        "id": "view-in-github",
        "colab_type": "text"
      },
      "source": [
        "<a href=\"https://colab.research.google.com/github/taylan-sen/CIS490b_computer_vision/blob/main/CV_MNIST_neural_network_intro.ipynb\" target=\"_parent\"><img src=\"https://colab.research.google.com/assets/colab-badge.svg\" alt=\"Open In Colab\"/></a>"
      ]
    },
    {
      "cell_type": "markdown",
      "source": [
        "Class notes reference notebook for using basic neural network for MNIST.\n",
        "\n",
        "There is a great neural network simulator at:\n",
        "\n",
        "http://playground.tensorflow.org/\n",
        "\n",
        "This notebook uses the TensorFlow neural network tool along with the Keras \"wrapper\" to the tool (which makes it easier to run).\n",
        "\n",
        "https://keras.io/"
      ],
      "metadata": {
        "id": "BoUv7qt3NkWM"
      }
    },
    {
      "cell_type": "code",
      "source": [
        "import numpy as np\n",
        "import matplotlib.pyplot as plt\n",
        "from keras.layers import Dense, Flatten\n",
        "from keras.models import Sequential\n",
        "from tensorflow.keras.utils import to_categorical\n",
        "from keras.datasets import mnist\n",
        "\n",
        "# Load MNIST handwritten digit data\n",
        "(X_train, y_train), (X_test, y_test) = mnist.load_data()\n",
        "\n",
        "# Display some images\n",
        "fig, axes = plt.subplots(ncols=5, sharex=False,\n",
        "\t\t\t sharey=True, figsize=(10, 4))\n",
        "for i in range(5):\n",
        "\taxes[i].set_title(y_train[i])\n",
        "\taxes[i].imshow(X_train[i], cmap='gray')\n",
        "\taxes[i].get_xaxis().set_visible(False)\n",
        "\taxes[i].get_yaxis().set_visible(False)\n",
        "plt.show()\n",
        "\n",
        "# Convert y_train into one-hot format\n",
        "temp = []\n",
        "for i in range(len(y_train)):\n",
        "    temp.append(to_categorical(y_train[i], num_classes=10))\n",
        "\n",
        "y_train = np.array(temp)\n",
        "\n",
        "# Convert y_test into one-hot format\n",
        "temp = []\n",
        "for i in range(len(y_test)):\n",
        "    temp.append(to_categorical(y_test[i], num_classes=10))\n",
        "\n",
        "y_test = np.array(temp)"
      ],
      "metadata": {
        "id": "Fk55U3x0_uJi",
        "colab": {
          "base_uri": "https://localhost:8080/",
          "height": 229
        },
        "outputId": "9ec2c671-f85a-4bf8-b43f-4b6feb48387e"
      },
      "execution_count": 1,
      "outputs": [
        {
          "output_type": "stream",
          "name": "stdout",
          "text": [
            "Downloading data from https://storage.googleapis.com/tensorflow/tf-keras-datasets/mnist.npz\n",
            "11490434/11490434 [==============================] - 2s 0us/step\n"
          ]
        },
        {
          "output_type": "display_data",
          "data": {
            "text/plain": [
              "<Figure size 1000x400 with 5 Axes>"
            ],
            "image/png": "[encoded data removed]"
          },
          "metadata": {}
        }
      ]
    },
    {
      "cell_type": "code",
      "execution_count": null,
      "metadata": {
        "colab": {
          "base_uri": "https://localhost:8080/",
          "height": 1000
        },
        "id": "jIaibpDJniuB",
        "outputId": "64a766e6-1c5b-4296-b554-1985617bff21"
      },
      "outputs": [
        {
          "output_type": "stream",
          "name": "stdout",
          "text": [
            "Model: \"sequential_2\"\n",
            "_________________________________________________________________\n",
            " Layer (type)                Output Shape              Param #   \n",
            "=================================================================\n",
            " flatten_2 (Flatten)         (None, 784)               0         \n",
            "                                                                 \n",
            " dense_4 (Dense)             (None, 10)                7850      \n",
            "                                                                 \n",
            " dense_5 (Dense)             (None, 10)                110       \n",
            "                                                                 \n",
            "=================================================================\n",
            "Total params: 7960 (31.09 KB)\n",
            "Trainable params: 7960 (31.09 KB)\n",
            "Non-trainable params: 0 (0.00 Byte)\n",
            "_________________________________________________________________\n",
            "Epoch 1/20\n",
            "1875/1875 [==============================] - 7s 3ms/step - loss: 1.2669 - acc: 0.6451 - val_loss: 0.7939 - val_acc: 0.7831\n",
            "Epoch 2/20\n",
            "1875/1875 [==============================] - 5s 3ms/step - loss: 0.7085 - acc: 0.7970 - val_loss: 0.6079 - val_acc: 0.8231\n",
            "Epoch 3/20\n",
            "1875/1875 [==============================] - 6s 3ms/step - loss: 0.6277 - acc: 0.8112 - val_loss: 0.5818 - val_acc: 0.8293\n",
            "Epoch 4/20\n",
            "1875/1875 [==============================] - 6s 3ms/step - loss: 0.5742 - acc: 0.8278 - val_loss: 0.5233 - val_acc: 0.8506\n",
            "Epoch 5/20\n",
            "1875/1875 [==============================] - 6s 3ms/step - loss: 0.5341 - acc: 0.8403 - val_loss: 0.5366 - val_acc: 0.8415\n",
            "Epoch 6/20\n",
            "1875/1875 [==============================] - 6s 3ms/step - loss: 0.5493 - acc: 0.8339 - val_loss: 0.5157 - val_acc: 0.8356\n",
            "Epoch 7/20\n",
            "1875/1875 [==============================] - 7s 3ms/step - loss: 0.5070 - acc: 0.8446 - val_loss: 0.4505 - val_acc: 0.8672\n",
            "Epoch 8/20\n",
            "1875/1875 [==============================] - 6s 3ms/step - loss: 0.4814 - acc: 0.8578 - val_loss: 0.5296 - val_acc: 0.8426\n",
            "Epoch 9/20\n",
            "1875/1875 [==============================] - 6s 3ms/step - loss: 0.4932 - acc: 0.8485 - val_loss: 0.4968 - val_acc: 0.8378\n",
            "Epoch 10/20\n",
            "1875/1875 [==============================] - 6s 3ms/step - loss: 0.4840 - acc: 0.8529 - val_loss: 0.4767 - val_acc: 0.8555\n",
            "Epoch 11/20\n",
            "1875/1875 [==============================] - 6s 3ms/step - loss: 0.4675 - acc: 0.8590 - val_loss: 0.4298 - val_acc: 0.8757\n",
            "Epoch 12/20\n",
            "1875/1875 [==============================] - 6s 3ms/step - loss: 0.4668 - acc: 0.8596 - val_loss: 0.4562 - val_acc: 0.8642\n",
            "Epoch 13/20\n",
            "1875/1875 [==============================] - 7s 4ms/step - loss: 0.4660 - acc: 0.8618 - val_loss: 0.4540 - val_acc: 0.8677\n",
            "Epoch 14/20\n",
            "1875/1875 [==============================] - 6s 3ms/step - loss: 0.4568 - acc: 0.8653 - val_loss: 0.4233 - val_acc: 0.8779\n",
            "Epoch 15/20\n",
            "1875/1875 [==============================] - 7s 4ms/step - loss: 0.4687 - acc: 0.8584 - val_loss: 0.4796 - val_acc: 0.8612\n",
            "Epoch 16/20\n",
            "1875/1875 [==============================] - 6s 3ms/step - loss: 0.4506 - acc: 0.8673 - val_loss: 0.4243 - val_acc: 0.8794\n",
            "Epoch 17/20\n",
            "1875/1875 [==============================] - 8s 4ms/step - loss: 0.4428 - acc: 0.8687 - val_loss: 0.4212 - val_acc: 0.8799\n",
            "Epoch 18/20\n",
            "1875/1875 [==============================] - 6s 3ms/step - loss: 0.4378 - acc: 0.8707 - val_loss: 0.4031 - val_acc: 0.8861\n",
            "Epoch 19/20\n",
            "1875/1875 [==============================] - 6s 3ms/step - loss: 0.4220 - acc: 0.8765 - val_loss: 0.4035 - val_acc: 0.8802\n",
            "Epoch 20/20\n",
            "1875/1875 [==============================] - 6s 3ms/step - loss: 0.4324 - acc: 0.8698 - val_loss: 0.4081 - val_acc: 0.8792\n",
            "313/313 [==============================] - 1s 1ms/step\n"
          ]
        },
        {
          "output_type": "display_data",
          "data": {
            "text/plain": [
              "<Figure size 2000x400 with 10 Axes>"
            ],
            "image/png": "[encoded data removed]"
          },
          "metadata": {}
        }
      ],
      "source": [
        "# Create simple Neural Network model\n",
        "model = Sequential()\n",
        "model.add(Flatten(input_shape=(28,28)))     # just rearranges input data\n",
        "model.add(Dense(10, activation='sigmoid'))  # a linear sum with a sigmoid output\n",
        "model.add(Dense(10, activation='softmax'))  # a linear sum with a softmax output\n",
        "\n",
        "model.summary()\n",
        "\n",
        "model.compile(loss='categorical_crossentropy',\n",
        "\t      optimizer='adam',\n",
        "\t      metrics=['acc'])\n",
        "\n",
        "# Train the Neural Network model\n",
        "model.fit(X_train, y_train, epochs=20, validation_data=(X_test,y_test))\n",
        "\n",
        "# Making predictions using our trained model\n",
        "predictions = model.predict(X_test)\n",
        "predictions = np.argmax(predictions, axis=1)\n",
        "\n",
        "# Display some predictions on test data\n",
        "fig, axes = plt.subplots(ncols=10, sharex=False,\n",
        "\t\t\t sharey=True, figsize=(20, 4))\n",
        "for i in range(10):\n",
        "\taxes[i].set_title(predictions[i])\n",
        "\taxes[i].imshow(X_test[i], cmap='gray')\n",
        "\taxes[i].get_xaxis().set_visible(False)\n",
        "\taxes[i].get_yaxis().set_visible(False)\n",
        "plt.show()"
      ]
    },
    {
      "cell_type": "code",
      "source": [
        "# Train the Neural Network model\n",
        "model.fit(X_train, y_train, epochs=20, validation_data=(X_test,y_test))\n",
        "\n",
        "# Making predictions using our trained model\n",
        "predictions = model.predict(X_test)\n",
        "predictions = np.argmax(predictions, axis=1)\n",
        "\n",
        "# Display some predictions on test data\n",
        "fig, axes = plt.subplots(ncols=10, sharex=False,\n",
        "\t\t\t sharey=True, figsize=(20, 4))\n",
        "for i in range(10):\n",
        "\taxes[i].set_title(predictions[i])\n",
        "\taxes[i].imshow(X_test[i], cmap='gray')\n",
        "\taxes[i].get_xaxis().set_visible(False)\n",
        "\taxes[i].get_yaxis().set_visible(False)\n",
        "plt.show()"
      ],
      "metadata": {
        "id": "CKdZlClIn0r1",
        "colab": {
          "base_uri": "https://localhost:8080/",
          "height": 883
        },
        "outputId": "c42644f4-8442-4455-985e-f79a6d4a562d"
      },
      "execution_count": null,
      "outputs": [
        {
          "output_type": "stream",
          "name": "stdout",
          "text": [
            "Epoch 1/20\n",
            "1875/1875 [==============================] - 6s 3ms/step - loss: 0.4356 - acc: 0.8717 - val_loss: 0.4181 - val_acc: 0.8766\n",
            "Epoch 2/20\n",
            "1875/1875 [==============================] - 6s 3ms/step - loss: 0.4209 - acc: 0.8738 - val_loss: 0.4220 - val_acc: 0.8800\n",
            "Epoch 3/20\n",
            "1875/1875 [==============================] - 6s 3ms/step - loss: 0.4182 - acc: 0.8772 - val_loss: 0.4296 - val_acc: 0.8710\n",
            "Epoch 4/20\n",
            "1875/1875 [==============================] - 6s 3ms/step - loss: 0.4163 - acc: 0.8729 - val_loss: 0.4023 - val_acc: 0.8850\n",
            "Epoch 5/20\n",
            "1875/1875 [==============================] - 5s 3ms/step - loss: 0.4077 - acc: 0.8812 - val_loss: 0.3786 - val_acc: 0.8916\n",
            "Epoch 6/20\n",
            "1875/1875 [==============================] - 6s 3ms/step - loss: 0.4020 - acc: 0.8812 - val_loss: 0.3946 - val_acc: 0.8892\n",
            "Epoch 7/20\n",
            "1875/1875 [==============================] - 5s 3ms/step - loss: 0.4082 - acc: 0.8783 - val_loss: 0.3810 - val_acc: 0.8806\n",
            "Epoch 8/20\n",
            "1875/1875 [==============================] - 6s 3ms/step - loss: 0.4073 - acc: 0.8799 - val_loss: 0.3788 - val_acc: 0.8872\n",
            "Epoch 9/20\n",
            "1875/1875 [==============================] - 6s 3ms/step - loss: 0.4073 - acc: 0.8803 - val_loss: 0.4143 - val_acc: 0.8737\n",
            "Epoch 10/20\n",
            "1875/1875 [==============================] - 6s 3ms/step - loss: 0.4086 - acc: 0.8824 - val_loss: 0.3714 - val_acc: 0.8981\n",
            "Epoch 11/20\n",
            "1875/1875 [==============================] - 6s 3ms/step - loss: 0.4075 - acc: 0.8816 - val_loss: 0.4297 - val_acc: 0.8756\n",
            "Epoch 12/20\n",
            "1875/1875 [==============================] - 6s 3ms/step - loss: 0.4115 - acc: 0.8792 - val_loss: 0.3729 - val_acc: 0.8974\n",
            "Epoch 13/20\n",
            "1875/1875 [==============================] - 6s 3ms/step - loss: 0.3995 - acc: 0.8833 - val_loss: 0.4009 - val_acc: 0.8785\n",
            "Epoch 14/20\n",
            "1875/1875 [==============================] - 6s 3ms/step - loss: 0.3928 - acc: 0.8860 - val_loss: 0.3883 - val_acc: 0.8913\n",
            "Epoch 15/20\n",
            "1875/1875 [==============================] - 5s 3ms/step - loss: 0.3886 - acc: 0.8873 - val_loss: 0.3866 - val_acc: 0.8871\n",
            "Epoch 16/20\n",
            "1875/1875 [==============================] - 6s 3ms/step - loss: 0.3956 - acc: 0.8864 - val_loss: 0.3794 - val_acc: 0.8891\n",
            "Epoch 17/20\n",
            "1875/1875 [==============================] - 6s 3ms/step - loss: 0.3854 - acc: 0.8897 - val_loss: 0.3751 - val_acc: 0.8899\n",
            "Epoch 18/20\n",
            "1875/1875 [==============================] - 7s 4ms/step - loss: 0.3858 - acc: 0.8886 - val_loss: 0.3843 - val_acc: 0.8904\n",
            "Epoch 19/20\n",
            "1875/1875 [==============================] - 6s 3ms/step - loss: 0.3902 - acc: 0.8858 - val_loss: 0.3592 - val_acc: 0.8962\n",
            "Epoch 20/20\n",
            "1875/1875 [==============================] - 6s 3ms/step - loss: 0.3895 - acc: 0.8883 - val_loss: 0.3913 - val_acc: 0.8910\n",
            "313/313 [==============================] - 1s 2ms/step\n"
          ]
        },
        {
          "output_type": "display_data",
          "data": {
            "text/plain": [
              "<Figure size 2000x400 with 10 Axes>"
            ],
            "image/png": "[encoded data removed]"
          },
          "metadata": {}
        }
      ]
    },
    {
      "cell_type": "markdown",
      "source": [
        "a good description of softmax function:\n",
        "\n",
        "https://towardsdatascience.com/softmax-activation-function-how-it-actually-works-d292d335bd78"
      ],
      "metadata": {
        "id": "Q19OVTdssAO_"
      }
    }
  ]
}