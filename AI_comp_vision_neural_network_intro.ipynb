{
  "nbformat": 4,
  "nbformat_minor": 0,
  "metadata": {
    "colab": {
      "provenance": [],
      "gpuType": "T4",
      "authorship_tag": "ABX9TyPRCdArcfCXbH8LfhTsXqZc",
      "include_colab_link": true
    },
    "kernelspec": {
      "name": "python3",
      "display_name": "Python 3"
    },
    "language_info": {
      "name": "python"
    },
    "accelerator": "GPU"
  },
  "cells": [
    {
      "cell_type": "markdown",
      "metadata": {
        "id": "view-in-github",
        "colab_type": "text"
      },
      "source": [
        "<a href=\"https://colab.research.google.com/github/taylan-sen/CIS490b_computer_vision/blob/main/AI_comp_vision_neural_network_intro.ipynb\" target=\"_parent\"><img src=\"https://colab.research.google.com/assets/colab-badge.svg\" alt=\"Open In Colab\"/></a>"
      ]
    },
    {
      "cell_type": "markdown",
      "source": [
        "**SUMMARY**: This notebook has class/reference notes for using basic neural networks with keras/tensorflow for image classification.\n",
        "\n",
        "<img src=\"https://miro.medium.com/v2/resize:fit:1280/1*lJ3wVL_JGs4udYZTNZJOng.jpeg\" width=\"300\">  \n",
        "\n",
        "\n",
        "This notebook uses the TensorFlow neural network tool along with the Keras \"wrapper\" to the tool (which makes it easier to run).\n",
        "\n",
        "https://keras.io/"
      ],
      "metadata": {
        "id": "BoUv7qt3NkWM"
      }
    },
    {
      "cell_type": "markdown",
      "source": [
        "There is a great neural network simulator at:\n",
        "\n",
        "http://playground.tensorflow.org/  \n",
        "\n",
        "Go there and find out:  \n",
        "* With one hidden layer, what is the minimum number of neurons to learn each classificiation task?  \n",
        "* What is happening in the Output section with Test loss and Training loss.  \n",
        "* How can you use the plots to determine when you need more training or not?\n",
        "* What is Occam's razor?"
      ],
      "metadata": {
        "id": "WrHDg-xqTiFx"
      }
    },
    {
      "cell_type": "code",
      "source": [
        "# GET SOME DATA\n",
        "from keras.datasets import mnist\n",
        "\n",
        "# Load MNIST handwritten digit data\n",
        "(X_train, y_train), (X_test, y_test) = mnist.load_data()\n"
      ],
      "metadata": {
        "id": "gph-8whDOxtC"
      },
      "execution_count": null,
      "outputs": []
    },
    {
      "cell_type": "markdown",
      "source": [
        "QUESTIONS:\n",
        "\n",
        "1. What is the size and dimension of each of the variables:  \n",
        "* X_train\n",
        "* y_train  \n",
        "* X_test  \n",
        "* y_test"
      ],
      "metadata": {
        "id": "yTianPMoO0Ie"
      }
    },
    {
      "cell_type": "markdown",
      "source": [
        "# What does it look like?\n",
        "![](https://www.thescottishsun.co.uk/wp-content/uploads/sites/2/2019/01/birdybox.jpg)"
      ],
      "metadata": {
        "id": "WtddKaQDPto1"
      }
    },
    {
      "cell_type": "code",
      "source": [
        "# FINISH THE CODE BELOW\n",
        "print(\"y_train[0]:\",\n",
        "print(\"X_train[0]:\","
      ],
      "metadata": {
        "id": "1wMoCq6uVbDF"
      },
      "execution_count": null,
      "outputs": []
    },
    {
      "cell_type": "code",
      "source": [
        "import matplotlib.pyplot as plt\n",
        "plt.imshow(X_train[0])\n",
        "plt.title( #TODO PUT IN y_train label"
      ],
      "metadata": {
        "id": "T1dp236-UsFm"
      },
      "execution_count": null,
      "outputs": []
    },
    {
      "cell_type": "code",
      "source": [
        "# Display some images\n",
        "fig, axes = plt.subplots(ncols=5, sharex=False,\n",
        "\t\t\t sharey=True, figsize=(10, 4))\n",
        "for i in range(5):\n",
        "\taxes[i].set_title('label:'+str(y_train[i]))\n",
        "\taxes[i].imshow(X_train[i], cmap='gray')\n",
        "\taxes[i].get_xaxis().set_visible(False)\n",
        "\taxes[i].get_yaxis().set_visible(False)\n",
        "plt.show()\n"
      ],
      "metadata": {
        "id": "Fk55U3x0_uJi"
      },
      "execution_count": null,
      "outputs": []
    },
    {
      "cell_type": "code",
      "source": [
        "# PREPROCESS DATA INTO A \"GOOD FORMAT\" FOR NN TRAINING\n",
        "# Convert y_train into one-hot format\n",
        "import numpy as np\n",
        "from tensorflow.keras.utils import to_categorical\n",
        "\n",
        "temp = []\n",
        "for i in range(len(y_train)):\n",
        "    temp.append(to_categorical(y_train[i], num_classes=10))\n",
        "\n",
        "y_train = np.array(temp)\n",
        "\n",
        "# Convert y_test into one-hot format\n",
        "temp = []\n",
        "for i in range(len(y_test)):\n",
        "    temp.append(to_categorical(y_test[i], num_classes=10))\n",
        "\n",
        "y_test = np.array(temp)"
      ],
      "metadata": {
        "id": "ATDMMECEQFI4"
      },
      "execution_count": null,
      "outputs": []
    },
    {
      "cell_type": "markdown",
      "source": [
        "### Define the neural network architecture\n",
        "We will use a single hidden layer architecture followed by a ***softmax*** layer for multiclass probabilities.  \n",
        "<img src=\"https://successfularchistudent.com/wp-content/uploads/2020/02/successfularchistudent-how-to-ace-any-project-2.png\" width=\"300\">"
      ],
      "metadata": {
        "id": "ZPOiBC_LXHmm"
      }
    },
    {
      "cell_type": "code",
      "source": [
        "# DEFINE THE ARCHITECTURE\n",
        "from keras.layers import Dense, Flatten\n",
        "from keras.models import Sequential\n",
        "\n",
        "# Create simple Neural Network model\n",
        "model = Sequential()\n",
        "model.add(Flatten(input_shape=(28,28)))     # just rearranges input data\n",
        "model.add(Dense(1, activation='sigmoid'))  # a linear sum with a sigmoid output\n",
        "model.add(Dense(10, activation='softmax'))  # a linear sum with a softmax output\n",
        "\n",
        "model.summary()"
      ],
      "metadata": {
        "id": "ymYedvSwKGkX"
      },
      "execution_count": null,
      "outputs": []
    },
    {
      "cell_type": "markdown",
      "source": [
        "### What is a softmax?\n",
        "\n",
        "<img src=\"https://i0.wp.com/cultivatecourage.com/wp-content/uploads/2014/08/judging_scores.jpg\" width=\"300\">\n",
        "\n",
        "$\\sigma(\\mathbf{z})_i = \\frac{e^{z_i}}{\\sum_{j=1}^K e^{z_j}} \\ \\ \\text{ for } i = 1, \\dotsc, K \\text{ and } \\mathbf{z} = (z_1, \\dotsc, z_K) \\in\n",
        " \\mathbb{R} ^K.$\n",
        "\n",
        "$probability(class \\space i) = \\frac{e^{[score_i]}}{\\sum_{j=1}^{total \\# classes} e^{[score_j]}} \\ $"
      ],
      "metadata": {
        "id": "Tz7lh12ms_t4"
      }
    },
    {
      "cell_type": "markdown",
      "source": [
        "QUESTION:\n",
        "1. How many network weights and biases need to be trained in this network?  "
      ],
      "metadata": {
        "id": "7YufanNcXhEb"
      }
    },
    {
      "cell_type": "markdown",
      "source": [
        "VonNeuman to Fermi: \"With four parameters I can fit an elephant, and with five I can make him wiggle his trunk.\"  \n",
        "*By this he meant that the Fermi simulations relied on too many input parameters, presupposing an overfitting phenomenon.*  \n",
        "\n",
        "<img src=\"https://francis.naukas.com/files/2010/05/dibujo20100527_five_complex_parameters_encoding_elephant_with_wiggling_trunk.png\" width=\"200\">"
      ],
      "metadata": {
        "id": "gGxfnNuMX80M"
      }
    },
    {
      "cell_type": "markdown",
      "source": [
        "### Neural Network Training\n",
        "![](https://image.freepik.com/free-vector/robot-exercise-set-character-cartoon-mascot-vector_193274-4896.jpg)  \n",
        "\n",
        "***epoch***\n",
        "***batch***\n",
        "***accuracy***"
      ],
      "metadata": {
        "id": "kv5OOa9Hwc1o"
      }
    },
    {
      "cell_type": "code",
      "source": [
        "# TRAIN\n",
        "model.compile(loss='categorical_crossentropy',\n",
        "\t      optimizer='adam',\n",
        "\t      metrics=['acc'])\n",
        "\n",
        "# Train the Neural Network model\n",
        "model.fit(X_train, y_train, epochs=20, validation_data=(X_test,y_test))\n",
        "\n",
        "# Making predictions using our trained model\n",
        "predictions = model.predict(X_test)\n",
        "predictions = np.argmax(predictions, axis=1)\n",
        "\n",
        "# Display some predictions on test data\n",
        "fig, axes = plt.subplots(ncols=20, sharex=False,\n",
        "\t\t\t sharey=True, figsize=(20, 4))\n",
        "for i in range(20):\n",
        "\taxes[i].set_title(predictions[i])\n",
        "\taxes[i].imshow(X_test[i], cmap='gray')\n",
        "\taxes[i].get_xaxis().set_visible(False)\n",
        "\taxes[i].get_yaxis().set_visible(False)\n",
        "plt.show()\n",
        "fig, axes = plt.subplots(ncols=20, sharex=False,\n",
        "\t\t\t sharey=True, figsize=(20, 4))\n",
        "for i in range(20):\n",
        "\taxes[i].set_title(predictions[i+20])\n",
        "\taxes[i].imshow(X_test[i+20], cmap='gray')\n",
        "\taxes[i].get_xaxis().set_visible(False)\n",
        "\taxes[i].get_yaxis().set_visible(False)\n",
        "plt.show()"
      ],
      "metadata": {
        "id": "yP0IXmYASS3q"
      },
      "execution_count": null,
      "outputs": []
    },
    {
      "cell_type": "markdown",
      "source": [
        "![](https://loonylabs.files.wordpress.com/2016/03/alive.jpg)"
      ],
      "metadata": {
        "id": "VH7r03M9OjN3"
      }
    },
    {
      "cell_type": "code",
      "source": [
        "# Train more?\n",
        "INSERT CODE\n"
      ],
      "metadata": {
        "id": "CKdZlClIn0r1"
      },
      "execution_count": null,
      "outputs": []
    },
    {
      "cell_type": "code",
      "source": [
        "# Display again\n",
        "predictions = model.predict(X_test)\n",
        "predictions = np.argmax(predictions, axis=1)\n",
        "\n",
        "# INSERT CODE"
      ],
      "metadata": {
        "id": "_QPZt3dlLGON"
      },
      "execution_count": null,
      "outputs": []
    },
    {
      "cell_type": "markdown",
      "source": [
        "a good description of softmax function:\n",
        "\n",
        "https://towardsdatascience.com/softmax-activation-function-how-it-actually-works-d292d335bd78"
      ],
      "metadata": {
        "id": "Q19OVTdssAO_"
      }
    }
  ]
}