{
  "nbformat": 4,
  "nbformat_minor": 0,
  "metadata": {
    "colab": {
      "provenance": [],
      "include_colab_link": true
    },
    "kernelspec": {
      "name": "python3",
      "display_name": "Python 3"
    },
    "accelerator": "GPU"
  },
  "cells": [
    {
      "cell_type": "markdown",
      "metadata": {
        "id": "view-in-github",
        "colab_type": "text"
      },
      "source": [
        "<a href=\"https://colab.research.google.com/github/taylan-sen/CIS490b_computer_vision/blob/main/CV_3D_Ken_Burns_multiple.ipynb\" target=\"_parent\"><img src=\"https://colab.research.google.com/assets/colab-badge.svg\" alt=\"Open In Colab\"/></a>"
      ]
    },
    {
      "cell_type": "markdown",
      "metadata": {
        "id": "uCEixJujApc8"
      },
      "source": [
        "# 3D Ken Burns\n",
        "This is a reference implementation of 3D Ken Burns Effect from a Single Image [1] using PyTorch. Given a single input image, it animates this still image with a virtual camera scan and zoom subject to motion parallax. Should you be making use of our work, please cite our paper [1].\n",
        "\n",
        "<a href=\"https://arxiv.org/abs/1909.05483\" rel=\"Paper\"><img src=\"http://content.sniklaus.com/kenburns/paper.jpg\" alt=\"Paper\" width=\"100%\"></a>\n"
      ]
    },
    {
      "cell_type": "markdown",
      "metadata": {
        "id": "cJFpObViMXDH"
      },
      "source": [
        "> Colab created by [Manuel Romero](https://twitter.com/mrm8488)"
      ]
    },
    {
      "cell_type": "markdown",
      "metadata": {
        "id": "YXK9VNecNQEF"
      },
      "source": [
        "### 1. Clone the project"
      ]
    },
    {
      "cell_type": "code",
      "metadata": {
        "id": "ZbYRw_GlCL5w"
      },
      "source": [
        "!git clone https://github.com/sniklaus/3d-ken-burns.git"
      ],
      "execution_count": null,
      "outputs": []
    },
    {
      "cell_type": "markdown",
      "metadata": {
        "id": "06tpWil4A6Ck"
      },
      "source": [
        "### 2. Download pretrained models"
      ]
    },
    {
      "cell_type": "code",
      "metadata": {
        "id": "jy-x7Cm7AymM"
      },
      "source": [
        "!wget -O ./3d-ken-burns/models/disparity-estimation.pytorch http://content.sniklaus.com/kenburns/network-disparity.pytorch\n",
        "!wget -O ./3d-ken-burns/models/disparity-refinement.pytorch http://content.sniklaus.com/kenburns/network-refinement.pytorch\n",
        "!wget -O ./3d-ken-burns/models/pointcloud-inpainting.pytorch http://content.sniklaus.com/kenburns/network-inpainting.pytorch"
      ],
      "execution_count": null,
      "outputs": []
    },
    {
      "cell_type": "code",
      "source": [
        "!pip install chainer"
      ],
      "metadata": {
        "id": "Ji5b1w61vHNn"
      },
      "execution_count": null,
      "outputs": []
    },
    {
      "cell_type": "code",
      "metadata": {
        "id": "w5PBRLqUGYbk"
      },
      "source": [
        "import chainer\n",
        "chainer.print_runtime_info()"
      ],
      "execution_count": null,
      "outputs": []
    },
    {
      "cell_type": "code",
      "metadata": {
        "id": "EkrEO7vIIPym"
      },
      "source": [
        "import os\n",
        "os.environ['CUDA_HOME'] = \"/usr/local/cuda\""
      ],
      "execution_count": null,
      "outputs": []
    },
    {
      "cell_type": "code",
      "metadata": {
        "id": "vtd0th84B0Zg"
      },
      "source": [
        "!pip install moviepy"
      ],
      "execution_count": null,
      "outputs": []
    },
    {
      "cell_type": "code",
      "metadata": {
        "id": "xXFs3ii5Co82"
      },
      "source": [
        "cd /content/3d-ken-burns"
      ],
      "execution_count": null,
      "outputs": []
    },
    {
      "cell_type": "code",
      "metadata": {
        "id": "2z5hGImGGOEj"
      },
      "source": [
        "!rm images/README.md\n",
        "!mkdir results"
      ],
      "execution_count": null,
      "outputs": []
    },
    {
      "cell_type": "markdown",
      "metadata": {
        "id": "ndl8FGKxM_hk"
      },
      "source": [
        "### 3. Upload several a pictures from your filesystem"
      ]
    },
    {
      "cell_type": "code",
      "metadata": {
        "id": "wgRSDEfRJ6ha"
      },
      "source": [
        "from google.colab import files\n",
        "\n",
        "uploaded = files.upload()\n",
        "for filename in uploaded.keys():\n",
        "  !mv ./$filename ./images/$filename"
      ],
      "execution_count": null,
      "outputs": []
    },
    {
      "cell_type": "markdown",
      "metadata": {
        "id": "Daw9Ptv5P_EG"
      },
      "source": [
        "### 4. Apply (bulk) 3D Ken Burns Effect"
      ]
    },
    {
      "cell_type": "code",
      "source": [
        "!pip install gevent\n",
        "!pip3 install imageio"
      ],
      "metadata": {
        "id": "wF4meAIHRzzs"
      },
      "execution_count": null,
      "outputs": []
    },
    {
      "cell_type": "code",
      "metadata": {
        "id": "H_6mgeGBDdVD"
      },
      "source": [
        "!for image in ./images/*; do python autozoom.py --in $image --out ./results/$(basename $image | cut -f1 -d '.').mp4; done"
      ],
      "execution_count": null,
      "outputs": []
    },
    {
      "cell_type": "markdown",
      "metadata": {
        "id": "wOyjsg55NeI0"
      },
      "source": [
        "#### Now you have all your videos under the folder **results** and you can *manually* right click and download them.\n",
        "\n",
        "### If you want to *automatically* download all the videos run the following cell:"
      ]
    },
    {
      "cell_type": "code",
      "metadata": {
        "id": "7vYU0HNyP2Yu"
      },
      "source": [
        "for filename in os.listdir(\"./results\"):\n",
        "  extension = os.path.splitext(filename)[-1].lower()\n",
        "  if extension == \".mp4\":\n",
        "    files.download(\"./results/\" + filename)\n"
      ],
      "execution_count": null,
      "outputs": []
    },
    {
      "cell_type": "code",
      "source": [
        "from IPython.display import HTML\n",
        "from base64 import b64encode\n",
        "mp4 = open('results/doublestrike.mp4', 'rb').read()\n",
        "data_url = \"data:video/mp4;base64, \" + b64encode(mp4).decode()\n",
        "HTML(\"\"\"\n",
        "<video width=300 controls>\n",
        "  <source src=\"%s\" type=\"video/mp4\">\n",
        "</video>\n",
        "\"\"\" % data_url)"
      ],
      "metadata": {
        "id": "QoBEegXYShpq"
      },
      "execution_count": null,
      "outputs": []
    },
    {
      "cell_type": "markdown",
      "metadata": {
        "id": "72XSBhKkPKMA"
      },
      "source": [
        " Did you enjoy? Buy me a coffe :)\n",
        "\n",
        "[![ko-fi](https://www.ko-fi.com/img/githubbutton_sm.svg)](https://ko-fi.com/Y8Y3VYYE)"
      ]
    },
    {
      "cell_type": "code",
      "source": [
        "!pip install gevent\n",
        "!pip3 install imageio==2.4.1"
      ],
      "metadata": {
        "id": "UiWyRTxuvyVN"
      },
      "execution_count": null,
      "outputs": []
    }
  ]
}