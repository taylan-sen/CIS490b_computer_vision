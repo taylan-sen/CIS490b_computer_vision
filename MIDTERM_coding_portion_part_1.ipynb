{
  "nbformat": 4,
  "nbformat_minor": 0,
  "metadata": {
    "colab": {
      "provenance": [],
      "gpuType": "T4",
      "authorship_tag": "ABX9TyMI4PpaVw0oh3uST3yo7gov",
      "include_colab_link": true
    },
    "kernelspec": {
      "name": "python3",
      "display_name": "Python 3"
    },
    "language_info": {
      "name": "python"
    },
    "accelerator": "GPU"
  },
  "cells": [
    {
      "cell_type": "markdown",
      "metadata": {
        "id": "view-in-github",
        "colab_type": "text"
      },
      "source": [
        "<a href=\"https://colab.research.google.com/github/taylan-sen/CIS490b_computer_vision/blob/main/MIDTERM_coding_portion_part_1.ipynb\" target=\"_parent\"><img src=\"https://colab.research.google.com/assets/colab-badge.svg\" alt=\"Open In Colab\"/></a>"
      ]
    },
    {
      "cell_type": "markdown",
      "source": [
        "MIDTERM\n",
        "\n",
        "* Login to your school google account in your browser\n",
        "* Open this ipynb in colab, make a copy, save.\n",
        "* Complete all coding questions as indicated below.\n",
        "* Save. Download .ipynb. Upload to canvas."
      ],
      "metadata": {
        "id": "BoUv7qt3NkWM"
      }
    },
    {
      "cell_type": "markdown",
      "source": [
        "### Question 1 (5 points)\n",
        "\n",
        "In the cell below add code that will download this image into colab from the following location:\n",
        "\n",
        "https://i.pinimg.com/736x/e5/b5/bf/e5b5bf5e0245640f5e7108aa14bdcd83.jpg"
      ],
      "metadata": {
        "id": "I8Uc6sn5EUMp"
      }
    },
    {
      "cell_type": "code",
      "source": [],
      "metadata": {
        "id": "j0mfLapoIirS"
      },
      "execution_count": null,
      "outputs": []
    },
    {
      "cell_type": "markdown",
      "source": [
        "### Question 2: (25 pts)\n",
        "In the cell below add code to:\n",
        "* load the image into a numpy ndarray\n",
        "* convert the color space from BGR to RGB\n",
        "* add a 100x100 solid blue square in about the middle of the image\n",
        "* double each pixel's image brightness (don't worry about overflow)\n",
        "* plot the image"
      ],
      "metadata": {
        "id": "_PIScWBgHFcx"
      }
    },
    {
      "cell_type": "code",
      "source": [],
      "metadata": {
        "id": "546S1MdAIpOO"
      },
      "execution_count": null,
      "outputs": []
    },
    {
      "cell_type": "markdown",
      "source": [
        "### Question 3 (5 pts)\n",
        "\n",
        "In this cell, create an img link tag that displays this URL image (https://i.pinimg.com/736x/e5/b5/bf/e5b5bf5e0245640f5e7108aa14bdcd83.jpg) on this page:\n",
        "\n"
      ],
      "metadata": {
        "id": "gXXXV92mWz-J"
      }
    },
    {
      "cell_type": "markdown",
      "source": [
        "### Question 4 (10 pts)\n",
        "\n",
        "Edit your answers to the questions right into  this cell.\n",
        "* Why does the image that you plotted created in question 2 look \"messed up\"?  \n",
        "\n",
        "* What could you do to prevent it from looking \"messed up\"?"
      ],
      "metadata": {
        "id": "Stv1VBupXxbD"
      }
    },
    {
      "cell_type": "markdown",
      "source": [
        "### Question 5 (20 pts)\n",
        "\n",
        "* In the code below, what is the purpose of splitting the data into a training and test set?\n",
        "\n",
        "* What is the difference between the X and y variables?\n",
        "\n",
        "* How many training and test samples are there each?\n",
        "\n",
        "* What are the output values of the first 5 test samples?"
      ],
      "metadata": {
        "id": "Nw1Iv9pwERQ1"
      }
    },
    {
      "cell_type": "code",
      "source": [
        "from keras.datasets import mnist\n",
        "\n",
        "(X_train, y_train), (X_test, y_test) = mnist.load_data()"
      ],
      "metadata": {
        "id": "-3jt9vkrbG3B"
      },
      "execution_count": null,
      "outputs": []
    },
    {
      "cell_type": "markdown",
      "source": [
        "### Question 6 (5 pts)\n",
        "\n",
        "In each of the lines of code in the cell below, add a comment describing what the line is doing."
      ],
      "metadata": {
        "id": "byTMfquHDnla"
      }
    },
    {
      "cell_type": "code",
      "source": [
        "from keras.layers import Dense, Flatten\n",
        "from keras.models import Sequential\n",
        "\n",
        "model = Sequential()\n",
        "model.add(Flatten(input_shape=(28,28)))\n",
        "model.add(Dense(10, activation='softmax'))\n",
        "model.summary()\n"
      ],
      "metadata": {
        "id": "zqeYW_7kDhQm"
      },
      "execution_count": null,
      "outputs": []
    },
    {
      "cell_type": "markdown",
      "source": [
        "Run the cell below and the answer the following questions."
      ],
      "metadata": {
        "id": "OUN9gVEsFesn"
      }
    },
    {
      "cell_type": "code",
      "execution_count": null,
      "metadata": {
        "id": "jIaibpDJniuB"
      },
      "outputs": [],
      "source": [
        "# Train the neural network model\n",
        "\n",
        "model.compile(loss='sparse_categorical_crossentropy',\n",
        "\t      optimizer='adam',\n",
        "\t      metrics=['acc'])\n",
        "\n",
        "# Train the Neural Network model\n",
        "model.fit(X_train, y_train, epochs=5, validation_data=(X_test,y_test))"
      ]
    },
    {
      "cell_type": "markdown",
      "source": [
        "### Question 7 (10 pts)\n",
        "* How is the performance of the model after training? (include both test and training set performance descriptions)."
      ],
      "metadata": {
        "id": "7VIg9E4YEkDF"
      }
    },
    {
      "cell_type": "markdown",
      "source": [],
      "metadata": {
        "id": "D3-yx9sOEPYi"
      }
    },
    {
      "cell_type": "markdown",
      "source": [
        "### Question 8 (20 pts)\n",
        "\n",
        "* What are three ways performance can it be improved?  "
      ],
      "metadata": {
        "id": "xro43ThkdOXF"
      }
    },
    {
      "cell_type": "markdown",
      "source": [
        "### BONUS: (15 pts)\n",
        "\n",
        "Provide code to:\n",
        "* Use numpy to create an image of a white square donut that is the same format and dimensions as an mnist digit.  \n",
        "* Feed this image into the neural network model called model to predict the probability of the image for each digit.\n",
        "* Print the two digits that are highest probability for the image.\n",
        "\n"
      ],
      "metadata": {
        "id": "igyQf7dRdhOd"
      }
    }
  ]
}